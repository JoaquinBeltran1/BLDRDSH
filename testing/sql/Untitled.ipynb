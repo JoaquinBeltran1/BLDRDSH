{
 "cells": [
  {
   "cell_type": "code",
   "execution_count": 1,
   "id": "b6b5fd87-59ac-46db-b7af-0e54c1063091",
   "metadata": {},
   "outputs": [],
   "source": [
    "from bldrdsh.db.models.models import Agent, Company, CompanyHidden, Base"
   ]
  },
  {
   "cell_type": "code",
   "execution_count": 2,
   "id": "316c40e0-5271-4fef-9b25-e8c79b81f747",
   "metadata": {},
   "outputs": [],
   "source": [
    "from sqlalchemy import create_engine\n",
    "engine = create_engine(\"sqlite:///some.db\", echo=True, future=True)"
   ]
  },
  {
   "cell_type": "code",
   "execution_count": 3,
   "id": "caf866d1-21b3-44ae-b1ac-b2dd891324c9",
   "metadata": {},
   "outputs": [
    {
     "name": "stdout",
     "output_type": "stream",
     "text": [
      "2022-08-12 07:17:59,580 INFO sqlalchemy.engine.Engine BEGIN (implicit)\n",
      "2022-08-12 07:17:59,583 INFO sqlalchemy.engine.Engine PRAGMA main.table_info(\"agents\")\n",
      "2022-08-12 07:17:59,584 INFO sqlalchemy.engine.Engine [raw sql] ()\n",
      "2022-08-12 07:17:59,588 INFO sqlalchemy.engine.Engine PRAGMA main.table_info(\"companies\")\n",
      "2022-08-12 07:17:59,591 INFO sqlalchemy.engine.Engine [raw sql] ()\n",
      "2022-08-12 07:17:59,594 INFO sqlalchemy.engine.Engine PRAGMA main.table_info(\"companies_hidden\")\n",
      "2022-08-12 07:17:59,595 INFO sqlalchemy.engine.Engine [raw sql] ()\n",
      "2022-08-12 07:17:59,598 INFO sqlalchemy.engine.Engine COMMIT\n"
     ]
    }
   ],
   "source": [
    "Base.metadata.create_all(engine)"
   ]
  },
  {
   "cell_type": "code",
   "execution_count": 4,
   "id": "7ec934c1-86c6-4b9b-aa65-15d80713f45c",
   "metadata": {},
   "outputs": [],
   "source": [
    "from sqlalchemy.orm import Session"
   ]
  },
  {
   "cell_type": "code",
   "execution_count": 5,
   "id": "4148ad3d-161a-4536-b01d-836ce7be6a1f",
   "metadata": {},
   "outputs": [
    {
     "name": "stdout",
     "output_type": "stream",
     "text": [
      "[User(id=None, name='John', last_name='Third', experience=0.5, speed=0.5), User(id=None, name='Susan', last_name='Fourth', experience=0.8, speed=0.7)]\n",
      "2022-08-12 07:16:37,765 INFO sqlalchemy.engine.Engine BEGIN (implicit)\n",
      "2022-08-12 07:16:37,784 INFO sqlalchemy.engine.Engine INSERT INTO agents (name, last_name, experience, speed) VALUES (?, ?, ?, ?)\n",
      "2022-08-12 07:16:37,786 INFO sqlalchemy.engine.Engine [generated in 0.00163s] ('John', 'Third', 0.5, 0.5)\n",
      "2022-08-12 07:16:37,792 INFO sqlalchemy.engine.Engine INSERT INTO agents (name, last_name, experience, speed) VALUES (?, ?, ?, ?)\n",
      "2022-08-12 07:16:37,794 INFO sqlalchemy.engine.Engine [cached since 0.009718s ago] ('Susan', 'Fourth', 0.8, 0.7)\n",
      "2022-08-12 07:16:37,797 INFO sqlalchemy.engine.Engine COMMIT\n"
     ]
    }
   ],
   "source": [
    "with Session(engine) as session:\n",
    "    test_agent = Agent(name='John', last_name= 'Third', experience=0.5, speed= 0.5)\n",
    "    test_agent_2 = Agent(name='Susan', last_name='Fourth', experience=0.8, speed=0.7)\n",
    "    all_agents = [test_agent, test_agent_2]\n",
    "    print(all_agents)\n",
    "    session.add_all(all_agents)\n",
    "    session.commit()"
   ]
  },
  {
   "cell_type": "code",
   "execution_count": 6,
   "id": "b72d4ea0-159b-44e2-9599-433c56a22759",
   "metadata": {},
   "outputs": [
    {
     "data": {
      "text/plain": [
       "bldrdsh.db.models.models.Agent"
      ]
     },
     "execution_count": 6,
     "metadata": {},
     "output_type": "execute_result"
    }
   ],
   "source": [
    "type(test_agent)"
   ]
  },
  {
   "cell_type": "code",
   "execution_count": null,
   "id": "8d4d775a-2359-4913-b751-8fbffe7ef2ff",
   "metadata": {},
   "outputs": [],
   "source": []
  }
 ],
 "metadata": {
  "kernelspec": {
   "display_name": "Python 3 (ipykernel)",
   "language": "python",
   "name": "python3"
  },
  "language_info": {
   "codemirror_mode": {
    "name": "ipython",
    "version": 3
   },
   "file_extension": ".py",
   "mimetype": "text/x-python",
   "name": "python",
   "nbconvert_exporter": "python",
   "pygments_lexer": "ipython3",
   "version": "3.10.4"
  }
 },
 "nbformat": 4,
 "nbformat_minor": 5
}
