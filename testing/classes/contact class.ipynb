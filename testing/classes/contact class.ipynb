{
 "cells": [
  {
   "cell_type": "code",
   "execution_count": 1,
   "id": "4cf0cc2c-7e19-46ea-b3c4-476020ba3a2c",
   "metadata": {},
   "outputs": [],
   "source": [
    "list_of_companies = [\n",
    "    {'name': 'company_1', 'uuid': 'fb4060d1-e606-4d02-b3d5-a72317e1e41f'},\n",
    "    {'name': 'company_2', 'uuid': '67743b3b-64c1-4316-be11-896eaaeaf44f'},\n",
    "    {'name': 'company_3', 'uuid': '5f9a2a47-8b53-40e5-ab41-6818fdaf2506'},\n",
    "    {'name': 'company_4', 'uuid': 'dd096b69-21d5-48b6-882e-f7dcf3610023'}\n",
    "]"
   ]
  },
  {
   "cell_type": "code",
   "execution_count": 2,
   "id": "3360e5ab-8c67-4b6f-b4f7-417046f2166c",
   "metadata": {},
   "outputs": [
    {
     "name": "stdout",
     "output_type": "stream",
     "text": [
      "dict_keys(['name', 'uuid']) dict_values(['company_1', 'fb4060d1-e606-4d02-b3d5-a72317e1e41f']) {'fb4060d1-e606-4d02-b3d5-a72317e1e41f', 'company_1'}\n",
      "dict_keys(['name', 'uuid']) dict_values(['company_2', '67743b3b-64c1-4316-be11-896eaaeaf44f']) {'company_2', '67743b3b-64c1-4316-be11-896eaaeaf44f'}\n",
      "dict_keys(['name', 'uuid']) dict_values(['company_3', '5f9a2a47-8b53-40e5-ab41-6818fdaf2506']) {'company_3', '5f9a2a47-8b53-40e5-ab41-6818fdaf2506'}\n",
      "dict_keys(['name', 'uuid']) dict_values(['company_4', 'dd096b69-21d5-48b6-882e-f7dcf3610023']) {'company_4', 'dd096b69-21d5-48b6-882e-f7dcf3610023'}\n"
     ]
    }
   ],
   "source": [
    "for i in list_of_companies:\n",
    "    print(i.keys(), i.values(), {list(i.values())[0], list(i.values())[1]})"
   ]
  },
  {
   "cell_type": "code",
   "execution_count": 3,
   "id": "17985abb-2786-46d5-9bb6-08d0c9a2864a",
   "metadata": {},
   "outputs": [],
   "source": [
    "import pandas as pd"
   ]
  },
  {
   "cell_type": "code",
   "execution_count": 4,
   "id": "3e861ffc-4b78-469d-990c-8a198bee70d1",
   "metadata": {},
   "outputs": [],
   "source": [
    "test_df = pd.DataFrame.from_dict(list_of_companies)"
   ]
  },
  {
   "cell_type": "code",
   "execution_count": 5,
   "id": "28eaa9e1-5524-4729-83e2-d64ff0f92d95",
   "metadata": {},
   "outputs": [
    {
     "data": {
      "text/html": [
       "<div>\n",
       "<style scoped>\n",
       "    .dataframe tbody tr th:only-of-type {\n",
       "        vertical-align: middle;\n",
       "    }\n",
       "\n",
       "    .dataframe tbody tr th {\n",
       "        vertical-align: top;\n",
       "    }\n",
       "\n",
       "    .dataframe thead th {\n",
       "        text-align: right;\n",
       "    }\n",
       "</style>\n",
       "<table border=\"1\" class=\"dataframe\">\n",
       "  <thead>\n",
       "    <tr style=\"text-align: right;\">\n",
       "      <th></th>\n",
       "      <th>name</th>\n",
       "      <th>uuid</th>\n",
       "    </tr>\n",
       "  </thead>\n",
       "  <tbody>\n",
       "    <tr>\n",
       "      <th>0</th>\n",
       "      <td>company_1</td>\n",
       "      <td>fb4060d1-e606-4d02-b3d5-a72317e1e41f</td>\n",
       "    </tr>\n",
       "    <tr>\n",
       "      <th>1</th>\n",
       "      <td>company_2</td>\n",
       "      <td>67743b3b-64c1-4316-be11-896eaaeaf44f</td>\n",
       "    </tr>\n",
       "    <tr>\n",
       "      <th>2</th>\n",
       "      <td>company_3</td>\n",
       "      <td>5f9a2a47-8b53-40e5-ab41-6818fdaf2506</td>\n",
       "    </tr>\n",
       "    <tr>\n",
       "      <th>3</th>\n",
       "      <td>company_4</td>\n",
       "      <td>dd096b69-21d5-48b6-882e-f7dcf3610023</td>\n",
       "    </tr>\n",
       "  </tbody>\n",
       "</table>\n",
       "</div>"
      ],
      "text/plain": [
       "        name                                  uuid\n",
       "0  company_1  fb4060d1-e606-4d02-b3d5-a72317e1e41f\n",
       "1  company_2  67743b3b-64c1-4316-be11-896eaaeaf44f\n",
       "2  company_3  5f9a2a47-8b53-40e5-ab41-6818fdaf2506\n",
       "3  company_4  dd096b69-21d5-48b6-882e-f7dcf3610023"
      ]
     },
     "execution_count": 5,
     "metadata": {},
     "output_type": "execute_result"
    }
   ],
   "source": [
    "test_df"
   ]
  },
  {
   "cell_type": "code",
   "execution_count": 6,
   "id": "394cc2ca-8722-41f5-bf7b-a73f9c4773d9",
   "metadata": {},
   "outputs": [
    {
     "name": "stdout",
     "output_type": "stream",
     "text": [
      "name                               company_1\n",
      "uuid    fb4060d1-e606-4d02-b3d5-a72317e1e41f\n",
      "Name: 0, dtype: object\n",
      "name                               company_2\n",
      "uuid    67743b3b-64c1-4316-be11-896eaaeaf44f\n",
      "Name: 1, dtype: object\n",
      "name                               company_3\n",
      "uuid    5f9a2a47-8b53-40e5-ab41-6818fdaf2506\n",
      "Name: 2, dtype: object\n",
      "name                               company_4\n",
      "uuid    dd096b69-21d5-48b6-882e-f7dcf3610023\n",
      "Name: 3, dtype: object\n"
     ]
    }
   ],
   "source": [
    "for i in test_df.iloc:\n",
    "    print(i)"
   ]
  },
  {
   "cell_type": "code",
   "execution_count": 7,
   "id": "cee5f30a-def1-4a87-93a1-ae8a88b16ba2",
   "metadata": {},
   "outputs": [
    {
     "data": {
      "text/plain": [
       "('company_1', 'fb4060d1-e606-4d02-b3d5-a72317e1e41f')"
      ]
     },
     "execution_count": 7,
     "metadata": {},
     "output_type": "execute_result"
    }
   ],
   "source": [
    "test_df.iloc[0]['name'], test_df.iloc[0]['uuid']"
   ]
  },
  {
   "cell_type": "code",
   "execution_count": 8,
   "id": "bde30a12-a1cd-455b-918d-432f333930b7",
   "metadata": {},
   "outputs": [],
   "source": [
    "from bldrdsh.db.models.models import CompanyModel, ContactModel"
   ]
  },
  {
   "cell_type": "code",
   "execution_count": 9,
   "id": "041395f9-2648-425a-b0ba-44339e1cf930",
   "metadata": {},
   "outputs": [],
   "source": [
    "co_values = list_of_companies[0]"
   ]
  },
  {
   "cell_type": "code",
   "execution_count": 10,
   "id": "edbda3d7-a6eb-44c3-b322-316b9b464a13",
   "metadata": {},
   "outputs": [],
   "source": [
    "test_co = CompanyModel(**co_values)"
   ]
  },
  {
   "cell_type": "code",
   "execution_count": 11,
   "id": "e4e160d7-e61b-4a53-83bd-e08d43890554",
   "metadata": {},
   "outputs": [
    {
     "data": {
      "text/plain": [
       "Company(id=None, name='company_1', uuid=fb4060d1-e606-4d02-b3d5-a72317e1e41f, revenue=None, employees=None, owner_id=None, phone=None, company_type=None, contacts=[])"
      ]
     },
     "execution_count": 11,
     "metadata": {},
     "output_type": "execute_result"
    }
   ],
   "source": [
    "test_co"
   ]
  },
  {
   "cell_type": "code",
   "execution_count": 12,
   "id": "240987ad-52c5-4ff5-b824-7767b2243d9e",
   "metadata": {},
   "outputs": [],
   "source": [
    "sqlalchemy_companies = []"
   ]
  },
  {
   "cell_type": "code",
   "execution_count": 13,
   "id": "2d4d59f8-36e4-4261-b6e7-0d6527457dfd",
   "metadata": {},
   "outputs": [],
   "source": [
    "for i in list_of_companies:\n",
    "    sqlalchemy_companies.append(CompanyModel(**i))"
   ]
  },
  {
   "cell_type": "code",
   "execution_count": 14,
   "id": "c80f2324-43d8-4e7c-97a4-fd89086b072a",
   "metadata": {},
   "outputs": [
    {
     "data": {
      "text/plain": [
       "[Company(id=None, name='company_1', uuid=fb4060d1-e606-4d02-b3d5-a72317e1e41f, revenue=None, employees=None, owner_id=None, phone=None, company_type=None, contacts=[]),\n",
       " Company(id=None, name='company_2', uuid=67743b3b-64c1-4316-be11-896eaaeaf44f, revenue=None, employees=None, owner_id=None, phone=None, company_type=None, contacts=[]),\n",
       " Company(id=None, name='company_3', uuid=5f9a2a47-8b53-40e5-ab41-6818fdaf2506, revenue=None, employees=None, owner_id=None, phone=None, company_type=None, contacts=[]),\n",
       " Company(id=None, name='company_4', uuid=dd096b69-21d5-48b6-882e-f7dcf3610023, revenue=None, employees=None, owner_id=None, phone=None, company_type=None, contacts=[])]"
      ]
     },
     "execution_count": 14,
     "metadata": {},
     "output_type": "execute_result"
    }
   ],
   "source": [
    "sqlalchemy_companies"
   ]
  },
  {
   "cell_type": "code",
   "execution_count": 15,
   "id": "2ccc2e19-ceb8-49cc-96c0-37533febd0a0",
   "metadata": {},
   "outputs": [],
   "source": [
    "sqlalchemy_company_01 = sqlalchemy_companies[0]"
   ]
  },
  {
   "cell_type": "code",
   "execution_count": 16,
   "id": "8841f22c-3b26-4efb-91d0-c1908abc0bed",
   "metadata": {},
   "outputs": [
    {
     "data": {
      "text/plain": [
       "('company_1', 'fb4060d1-e606-4d02-b3d5-a72317e1e41f')"
      ]
     },
     "execution_count": 16,
     "metadata": {},
     "output_type": "execute_result"
    }
   ],
   "source": [
    "sqlalchemy_company_01.name, sqlalchemy_company_01.uuid"
   ]
  },
  {
   "cell_type": "code",
   "execution_count": 17,
   "id": "a8b1d9da-97c7-4354-8e7c-e9ad2385e753",
   "metadata": {},
   "outputs": [],
   "source": [
    "import random"
   ]
  },
  {
   "cell_type": "code",
   "execution_count": 18,
   "id": "091f1552-4dde-4fc7-b2e2-8c022317966e",
   "metadata": {},
   "outputs": [],
   "source": [
    "import uuid"
   ]
  },
  {
   "cell_type": "code",
   "execution_count": 19,
   "id": "6c770299-4ddb-45d3-8b9c-3c6a103130ab",
   "metadata": {},
   "outputs": [],
   "source": [
    "list_of_contacts = []\n",
    "for i in sqlalchemy_companies:\n",
    "    number_of_contacts = random.choice([1,2])\n",
    "    for j in range(number_of_contacts):\n",
    "        contact = {}\n",
    "        contact['name'] = f'contact_{j}'\n",
    "        contact['uuid'] = str(uuid.uuid4())\n",
    "        contact['company_uuid'] = i.uuid\n",
    "        \n",
    "        sqlalchemy_contact = ContactModel(**contact)\n",
    "        \n",
    "        list_of_contacts.append(sqlalchemy_contact)\n",
    "    "
   ]
  },
  {
   "cell_type": "code",
   "execution_count": 20,
   "id": "97dabcd7-5133-44d7-9af3-6d6b33dd5e5c",
   "metadata": {},
   "outputs": [
    {
     "data": {
      "text/plain": [
       "[Contact(id=None, name='contact_0', uuid='a71932e9-c84a-4c1e-bb7a-b0a85569ea5b', company_uuid='fb4060d1-e606-4d02-b3d5-a72317e1e41f', phone=None, company=None),\n",
       " Contact(id=None, name='contact_1', uuid='3f36f0b6-17db-4ce5-ba7a-0a71aab6f8c7', company_uuid='fb4060d1-e606-4d02-b3d5-a72317e1e41f', phone=None, company=None),\n",
       " Contact(id=None, name='contact_0', uuid='58e231d8-1de9-4f7d-8941-069a0c5a2a1b', company_uuid='67743b3b-64c1-4316-be11-896eaaeaf44f', phone=None, company=None),\n",
       " Contact(id=None, name='contact_0', uuid='935bfdbd-a8c2-44bb-af07-b2dfedde3c51', company_uuid='5f9a2a47-8b53-40e5-ab41-6818fdaf2506', phone=None, company=None),\n",
       " Contact(id=None, name='contact_0', uuid='98776e51-f1cd-4d90-b54b-d3c5a9fd9a94', company_uuid='dd096b69-21d5-48b6-882e-f7dcf3610023', phone=None, company=None),\n",
       " Contact(id=None, name='contact_1', uuid='6c204c68-a903-4848-8d58-9e4a77cb9aca', company_uuid='dd096b69-21d5-48b6-882e-f7dcf3610023', phone=None, company=None)]"
      ]
     },
     "execution_count": 20,
     "metadata": {},
     "output_type": "execute_result"
    }
   ],
   "source": [
    "list_of_contacts"
   ]
  },
  {
   "cell_type": "code",
   "execution_count": null,
   "id": "9dabe210-e865-430e-af23-a241909aefde",
   "metadata": {},
   "outputs": [],
   "source": []
  }
 ],
 "metadata": {
  "kernelspec": {
   "display_name": "Python 3 (ipykernel)",
   "language": "python",
   "name": "python3"
  },
  "language_info": {
   "codemirror_mode": {
    "name": "ipython",
    "version": 3
   },
   "file_extension": ".py",
   "mimetype": "text/x-python",
   "name": "python",
   "nbconvert_exporter": "python",
   "pygments_lexer": "ipython3",
   "version": "3.10.4"
  }
 },
 "nbformat": 4,
 "nbformat_minor": 5
}
