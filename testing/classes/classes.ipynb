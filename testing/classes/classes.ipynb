{
 "cells": [
  {
   "cell_type": "code",
   "execution_count": 2,
   "id": "f30c6563-5708-4f75-afeb-7391bb3480b6",
   "metadata": {},
   "outputs": [],
   "source": [
    "from typing import Optional\n",
    "\n",
    "class Base():\n",
    "    \n",
    "    def _create(i: Optional[int] = None):\n",
    "        return f'user_{i}'\n",
    "    \n",
    "    def create_one():\n",
    "        new_one = Base._create(1)\n",
    "        return new_one\n",
    "    \n",
    "    def create_many(how_many:int):\n",
    "        list_of = []\n",
    "        for i in range(how_many):\n",
    "            one = Base._create(i)\n",
    "            list_of.append(one)\n",
    "        return list_of"
   ]
  },
  {
   "cell_type": "code",
   "execution_count": 74,
   "id": "b68458d1-ce05-48ba-8b43-32a98071fc17",
   "metadata": {},
   "outputs": [],
   "source": [
    "aa = Base.create_one()"
   ]
  },
  {
   "cell_type": "code",
   "execution_count": 75,
   "id": "8f91dc0b-dd4d-4679-ac94-e4d8fff0d841",
   "metadata": {},
   "outputs": [
    {
     "data": {
      "text/plain": [
       "'user_1'"
      ]
     },
     "execution_count": 75,
     "metadata": {},
     "output_type": "execute_result"
    }
   ],
   "source": [
    "aa"
   ]
  },
  {
   "cell_type": "code",
   "execution_count": 76,
   "id": "dbe9894c-6927-4723-88de-aef0d742e02b",
   "metadata": {},
   "outputs": [],
   "source": [
    "bb = Base.create_many(5)"
   ]
  },
  {
   "cell_type": "code",
   "execution_count": 77,
   "id": "59505efe-2325-4607-8588-298dbc929a61",
   "metadata": {},
   "outputs": [
    {
     "data": {
      "text/plain": [
       "['user_0', 'user_1', 'user_2', 'user_3', 'user_4']"
      ]
     },
     "execution_count": 77,
     "metadata": {},
     "output_type": "execute_result"
    }
   ],
   "source": [
    "bb"
   ]
  },
  {
   "cell_type": "code",
   "execution_count": 7,
   "id": "3192fb46-3677-4273-99b3-4160939f371d",
   "metadata": {},
   "outputs": [],
   "source": [
    "class Company():\n",
    "\n",
    "    def _create(i: Optional[int] = None):\n",
    "        company = {}\n",
    "        company['name'] = f'company_{i}'\n",
    "        company['revenue'] = 1000 + i\n",
    "        return company\n",
    "    \n",
    "    def create_one():\n",
    "        new_one = Company._create(1)\n",
    "        return new_one\n",
    "    \n",
    "    def create_many(how_many:int):\n",
    "        list_of = []\n",
    "        for i in range(how_many):\n",
    "            one = Company._create(i)\n",
    "            list_of.append(one)\n",
    "        return list_of"
   ]
  },
  {
   "cell_type": "code",
   "execution_count": 10,
   "id": "4ff32b98-1719-47ef-a6fb-84f715ee70fe",
   "metadata": {},
   "outputs": [],
   "source": [
    "companies = Company.create_many(10)"
   ]
  },
  {
   "cell_type": "code",
   "execution_count": 9,
   "id": "c8ca6c0c-3d77-43b3-a235-09b89c20c450",
   "metadata": {},
   "outputs": [
    {
     "data": {
      "text/plain": [
       "[{'name': 'company_0', 'revenue': 1000},\n",
       " {'name': 'company_1', 'revenue': 1001},\n",
       " {'name': 'company_2', 'revenue': 1002},\n",
       " {'name': 'company_3', 'revenue': 1003},\n",
       " {'name': 'company_4', 'revenue': 1004},\n",
       " {'name': 'company_5', 'revenue': 1005},\n",
       " {'name': 'company_6', 'revenue': 1006},\n",
       " {'name': 'company_7', 'revenue': 1007},\n",
       " {'name': 'company_8', 'revenue': 1008},\n",
       " {'name': 'company_9', 'revenue': 1009}]"
      ]
     },
     "execution_count": 9,
     "metadata": {},
     "output_type": "execute_result"
    }
   ],
   "source": [
    "companies"
   ]
  },
  {
   "cell_type": "code",
   "execution_count": 11,
   "id": "15a86704-132a-477e-968b-89b07489b139",
   "metadata": {},
   "outputs": [],
   "source": [
    "one_co = Company.create_one()"
   ]
  },
  {
   "cell_type": "code",
   "execution_count": 12,
   "id": "f998bfa3-c336-468c-966d-8b3dcb5aeed7",
   "metadata": {},
   "outputs": [
    {
     "data": {
      "text/plain": [
       "{'name': 'company_1', 'revenue': 1001}"
      ]
     },
     "execution_count": 12,
     "metadata": {},
     "output_type": "execute_result"
    }
   ],
   "source": [
    "one_co"
   ]
  },
  {
   "cell_type": "code",
   "execution_count": 17,
   "id": "b2cd2d23-3533-46d9-abb4-b610b654245c",
   "metadata": {},
   "outputs": [],
   "source": [
    "from bldrdsh.db.models.models import Company"
   ]
  },
  {
   "cell_type": "code",
   "execution_count": 18,
   "id": "b407ba62-dc87-49a8-b202-99ca69649f41",
   "metadata": {},
   "outputs": [],
   "source": [
    "sqlalchemy_co = Company(name='test', revenue=1000)"
   ]
  },
  {
   "cell_type": "code",
   "execution_count": 20,
   "id": "71d681d4-a2dd-4a45-bf25-7dd45df26b1a",
   "metadata": {},
   "outputs": [
    {
     "data": {
      "text/plain": [
       "Company(id=None, name='test', revenue=1000, employees=None, owner_id=None, phone=None, company_type=None)"
      ]
     },
     "execution_count": 20,
     "metadata": {},
     "output_type": "execute_result"
    }
   ],
   "source": [
    "sqlalchemy_co"
   ]
  },
  {
   "cell_type": "code",
   "execution_count": 27,
   "id": "842cf23d-789d-4999-a1e8-0c7905a48e61",
   "metadata": {},
   "outputs": [],
   "source": [
    "sqlalchemy_co_from_create = Company(**one_co)"
   ]
  },
  {
   "cell_type": "code",
   "execution_count": 28,
   "id": "aeb6d91f-8de3-4d19-8c0e-ee371e2d25f3",
   "metadata": {},
   "outputs": [
    {
     "data": {
      "text/plain": [
       "Company(id=None, name='company_1', revenue=1001, employees=None, owner_id=None, phone=None, company_type=None)"
      ]
     },
     "execution_count": 28,
     "metadata": {},
     "output_type": "execute_result"
    }
   ],
   "source": [
    "sqlalchemy_co_from_create"
   ]
  },
  {
   "cell_type": "code",
   "execution_count": null,
   "id": "463479b5-9730-4b3e-a8ed-031232808123",
   "metadata": {},
   "outputs": [],
   "source": []
  },
  {
   "cell_type": "code",
   "execution_count": null,
   "id": "22c93c4f-917e-41d8-82b6-e570ef37b139",
   "metadata": {},
   "outputs": [],
   "source": []
  },
  {
   "cell_type": "code",
   "execution_count": null,
   "id": "badfe551-5c26-466c-b7c0-6fd4ceb989b9",
   "metadata": {},
   "outputs": [],
   "source": []
  },
  {
   "cell_type": "code",
   "execution_count": 96,
   "id": "2c1f7c79-8812-48c0-a2a1-7c3cca76c4e1",
   "metadata": {},
   "outputs": [],
   "source": [
    "def remainder(number, divisor):\n",
    "    return number / divisor"
   ]
  },
  {
   "cell_type": "code",
   "execution_count": 97,
   "id": "0049b966-bf4e-4c0a-99b0-d4e677859301",
   "metadata": {},
   "outputs": [],
   "source": [
    "my_kwargs = {\n",
    "    'number': 20,\n",
    "    'divisor': 7,\n",
    "}"
   ]
  },
  {
   "cell_type": "code",
   "execution_count": 98,
   "id": "efa4cd98-f1ee-484d-9347-cf227d841af5",
   "metadata": {},
   "outputs": [
    {
     "data": {
      "text/plain": [
       "2.857142857142857"
      ]
     },
     "execution_count": 98,
     "metadata": {},
     "output_type": "execute_result"
    }
   ],
   "source": [
    "remainder(**my_kwargs)"
   ]
  },
  {
   "cell_type": "code",
   "execution_count": null,
   "id": "175d4967-8c8d-4824-8c82-360a834156d7",
   "metadata": {},
   "outputs": [],
   "source": []
  }
 ],
 "metadata": {
  "kernelspec": {
   "display_name": "Python 3 (ipykernel)",
   "language": "python",
   "name": "python3"
  },
  "language_info": {
   "codemirror_mode": {
    "name": "ipython",
    "version": 3
   },
   "file_extension": ".py",
   "mimetype": "text/x-python",
   "name": "python",
   "nbconvert_exporter": "python",
   "pygments_lexer": "ipython3",
   "version": "3.10.4"
  }
 },
 "nbformat": 4,
 "nbformat_minor": 5
}
