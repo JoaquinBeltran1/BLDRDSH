{
 "cells": [
  {
   "cell_type": "code",
   "execution_count": 1,
   "id": "15458a75-5b4e-43a0-a35a-afa0bd6155c5",
   "metadata": {},
   "outputs": [],
   "source": [
    "import uuid"
   ]
  },
  {
   "cell_type": "code",
   "execution_count": 2,
   "id": "d9fb00da-90f0-4ee8-8b36-5db1c572bf0e",
   "metadata": {},
   "outputs": [],
   "source": [
    "test = uuid.uuid4()"
   ]
  },
  {
   "cell_type": "code",
   "execution_count": 3,
   "id": "f014bb4f-e3d5-4424-851b-baad1e2c938e",
   "metadata": {},
   "outputs": [
    {
     "data": {
      "text/plain": [
       "UUID('9d4a0d3d-c6f3-4cbb-9174-e4c70cc47fe0')"
      ]
     },
     "execution_count": 3,
     "metadata": {},
     "output_type": "execute_result"
    }
   ],
   "source": [
    "test"
   ]
  },
  {
   "cell_type": "code",
   "execution_count": 4,
   "id": "9bd5b687-4dfd-4cc4-8e3b-a37f7dfeeff1",
   "metadata": {},
   "outputs": [
    {
     "data": {
      "text/plain": [
       "uuid.UUID"
      ]
     },
     "execution_count": 4,
     "metadata": {},
     "output_type": "execute_result"
    }
   ],
   "source": [
    "type(test)"
   ]
  },
  {
   "cell_type": "code",
   "execution_count": 5,
   "id": "6d928b30-1ca8-432e-b3c1-0c9e61b3d3af",
   "metadata": {},
   "outputs": [],
   "source": [
    "test_str = str(test)"
   ]
  },
  {
   "cell_type": "code",
   "execution_count": 7,
   "id": "e128c522-7912-483f-a93f-cd11e65dd93c",
   "metadata": {},
   "outputs": [
    {
     "data": {
      "text/plain": [
       "'9d4a0d3d-c6f3-4cbb-9174-e4c70cc47fe0'"
      ]
     },
     "execution_count": 7,
     "metadata": {},
     "output_type": "execute_result"
    }
   ],
   "source": [
    "test_str"
   ]
  },
  {
   "cell_type": "code",
   "execution_count": null,
   "id": "0282a6be-c10c-4576-95cb-dcc94bf6bb23",
   "metadata": {},
   "outputs": [],
   "source": []
  }
 ],
 "metadata": {
  "kernelspec": {
   "display_name": "Python 3 (ipykernel)",
   "language": "python",
   "name": "python3"
  },
  "language_info": {
   "codemirror_mode": {
    "name": "ipython",
    "version": 3
   },
   "file_extension": ".py",
   "mimetype": "text/x-python",
   "name": "python",
   "nbconvert_exporter": "python",
   "pygments_lexer": "ipython3",
   "version": "3.10.4"
  }
 },
 "nbformat": 4,
 "nbformat_minor": 5
}
