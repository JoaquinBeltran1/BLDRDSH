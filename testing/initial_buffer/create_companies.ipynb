{
 "cells": [
  {
   "cell_type": "code",
   "execution_count": 2,
   "id": "acedb111-807c-46fa-97f0-f20e6959eda3",
   "metadata": {},
   "outputs": [],
   "source": [
    "class SimpleGradebook:\n",
    "    def __init__(self):\n",
    "        self._grades = {}\n",
    "    \n",
    "    def add_student(self, name):\n",
    "        self._grades[name] = []\n",
    "        \n",
    "    def report_grade(self, name, score):\n",
    "        self._grades[name].append(score)\n",
    "        \n",
    "    def average_grade(self, name):\n",
    "        grades = self._grades[name]\n",
    "        return sum(grades) / len(grades)"
   ]
  },
  {
   "cell_type": "code",
   "execution_count": 3,
   "id": "5253eb63-5d45-4f23-9013-5f80c401c922",
   "metadata": {},
   "outputs": [],
   "source": [
    "book = SimpleGradebook()"
   ]
  },
  {
   "cell_type": "code",
   "execution_count": 5,
   "id": "bd222f13-0a75-484d-98a3-cdccc0967b67",
   "metadata": {},
   "outputs": [],
   "source": [
    "book.add_student('Mike')"
   ]
  },
  {
   "cell_type": "code",
   "execution_count": 8,
   "id": "de4c72e5-8c50-448a-8aa1-da2bdf6875ce",
   "metadata": {},
   "outputs": [],
   "source": [
    "book.report_grade('Mike', 10)"
   ]
  },
  {
   "cell_type": "code",
   "execution_count": 9,
   "id": "8a0d04a9-8f50-4021-8bc2-eb1433101c7c",
   "metadata": {},
   "outputs": [
    {
     "data": {
      "text/plain": [
       "{'Mike': [10]}"
      ]
     },
     "execution_count": 9,
     "metadata": {},
     "output_type": "execute_result"
    }
   ],
   "source": [
    "book._grades"
   ]
  },
  {
   "cell_type": "code",
   "execution_count": 11,
   "id": "c0d38c59-f290-462e-8f5b-16506ed84d09",
   "metadata": {},
   "outputs": [],
   "source": [
    "book.add_student('John')"
   ]
  },
  {
   "cell_type": "code",
   "execution_count": 12,
   "id": "a9f697e5-b2f7-4ed4-8118-b2d9a3d5a7a4",
   "metadata": {},
   "outputs": [],
   "source": [
    "book.report_grade('John', 5)"
   ]
  },
  {
   "cell_type": "code",
   "execution_count": 13,
   "id": "4e7bfa14-3e47-4067-9e6f-83b27a1486b1",
   "metadata": {},
   "outputs": [
    {
     "data": {
      "text/plain": [
       "{'Mike': [10], 'John': [5]}"
      ]
     },
     "execution_count": 13,
     "metadata": {},
     "output_type": "execute_result"
    }
   ],
   "source": [
    "book._grades"
   ]
  },
  {
   "cell_type": "code",
   "execution_count": 14,
   "id": "8a432fee-dcd3-456e-804f-833b78ca2bc4",
   "metadata": {},
   "outputs": [],
   "source": [
    "def make_name():\n",
    "    return 'Gary'"
   ]
  },
  {
   "cell_type": "code",
   "execution_count": 15,
   "id": "29577e77-578a-4b40-98eb-ef060399edf5",
   "metadata": {},
   "outputs": [],
   "source": [
    "book.add_student(make_name())"
   ]
  },
  {
   "cell_type": "code",
   "execution_count": 16,
   "id": "4fa5fa27-822e-4938-b611-7513503db898",
   "metadata": {},
   "outputs": [],
   "source": [
    "book.report_grade(make_name(), 8.5)"
   ]
  },
  {
   "cell_type": "code",
   "execution_count": 17,
   "id": "09326141-2229-40f2-9b49-ba80652f725d",
   "metadata": {},
   "outputs": [
    {
     "data": {
      "text/plain": [
       "{'Mike': [10], 'John': [5], 'Gary': [8.5]}"
      ]
     },
     "execution_count": 17,
     "metadata": {},
     "output_type": "execute_result"
    }
   ],
   "source": [
    "book._grades"
   ]
  },
  {
   "cell_type": "code",
   "execution_count": 20,
   "id": "ab6d7fee-d92b-4442-99b0-4535a4968f50",
   "metadata": {},
   "outputs": [
    {
     "data": {
      "text/plain": [
       "dict"
      ]
     },
     "execution_count": 20,
     "metadata": {},
     "output_type": "execute_result"
    }
   ],
   "source": [
    "type(book._grades)"
   ]
  },
  {
   "cell_type": "code",
   "execution_count": 31,
   "id": "31b71c7e-3aee-4ba2-a531-76b6176f0dfc",
   "metadata": {},
   "outputs": [
    {
     "data": {
      "text/plain": [
       "('Mike', [10])"
      ]
     },
     "execution_count": 31,
     "metadata": {},
     "output_type": "execute_result"
    }
   ],
   "source": [
    "list(book._grades.items())[0]"
   ]
  },
  {
   "cell_type": "code",
   "execution_count": 33,
   "id": "cd0a073b-5c8a-4f00-a013-6a8f19f6cb26",
   "metadata": {},
   "outputs": [
    {
     "data": {
      "text/plain": [
       "tuple"
      ]
     },
     "execution_count": 33,
     "metadata": {},
     "output_type": "execute_result"
    }
   ],
   "source": [
    "type(list(book._grades.items())[0])"
   ]
  },
  {
   "cell_type": "code",
   "execution_count": 32,
   "id": "0252e974-33c3-4c34-bbbe-9c9ec1008f85",
   "metadata": {},
   "outputs": [
    {
     "data": {
      "text/plain": [
       "dict_items([('Mike', [10]), ('John', [5]), ('Gary', [8.5])])"
      ]
     },
     "execution_count": 32,
     "metadata": {},
     "output_type": "execute_result"
    }
   ],
   "source": [
    "book._grades.items()"
   ]
  },
  {
   "cell_type": "code",
   "execution_count": 34,
   "id": "852a90f2-b3f8-4f03-a7c9-425e087cba2a",
   "metadata": {},
   "outputs": [],
   "source": [
    "mike = list(book._grades.items())[0]"
   ]
  },
  {
   "cell_type": "code",
   "execution_count": 37,
   "id": "8eb28366-6093-4f30-b790-3b9bd4375c1b",
   "metadata": {},
   "outputs": [
    {
     "data": {
      "text/plain": [
       "'Mike'"
      ]
     },
     "execution_count": 37,
     "metadata": {},
     "output_type": "execute_result"
    }
   ],
   "source": [
    "mike[0]"
   ]
  },
  {
   "cell_type": "markdown",
   "id": "dc4e2874-351d-46ae-9c4e-81a7ed1e7895",
   "metadata": {},
   "source": [
    "---"
   ]
  },
  {
   "cell_type": "code",
   "execution_count": 43,
   "id": "3188e739-634f-48ac-9b7c-69711663abbd",
   "metadata": {},
   "outputs": [],
   "source": [
    "from bldrdsh.db.models.models import Agent"
   ]
  },
  {
   "cell_type": "code",
   "execution_count": 44,
   "id": "e8e33ca4-3fad-4e73-ac9c-98ba0c9ead5d",
   "metadata": {},
   "outputs": [],
   "source": [
    "francis = Agent(name='Francis', last_name='Cook')"
   ]
  },
  {
   "cell_type": "code",
   "execution_count": 45,
   "id": "b9ffa4e9-8157-4451-b857-69f84b1f0ef4",
   "metadata": {},
   "outputs": [
    {
     "data": {
      "text/plain": [
       "User(id=None, name='Francis', last_name='Cook', experience=None, speed=None)"
      ]
     },
     "execution_count": 45,
     "metadata": {},
     "output_type": "execute_result"
    }
   ],
   "source": [
    "francis"
   ]
  },
  {
   "cell_type": "code",
   "execution_count": 46,
   "id": "e1d99b91-3bce-4916-a858-15e8b3980a43",
   "metadata": {},
   "outputs": [
    {
     "data": {
      "text/plain": [
       "'Francis'"
      ]
     },
     "execution_count": 46,
     "metadata": {},
     "output_type": "execute_result"
    }
   ],
   "source": [
    "francis.name"
   ]
  },
  {
   "cell_type": "code",
   "execution_count": 47,
   "id": "4316a35a-e8e6-453e-b1c8-2b1532afa7d5",
   "metadata": {},
   "outputs": [],
   "source": [
    "francis.name = 'Anthony'"
   ]
  },
  {
   "cell_type": "code",
   "execution_count": 48,
   "id": "dd63f5bc-f960-4860-a99a-acc8ae465801",
   "metadata": {},
   "outputs": [
    {
     "data": {
      "text/plain": [
       "User(id=None, name='Anthony', last_name='Cook', experience=None, speed=None)"
      ]
     },
     "execution_count": 48,
     "metadata": {},
     "output_type": "execute_result"
    }
   ],
   "source": [
    "francis"
   ]
  },
  {
   "cell_type": "code",
   "execution_count": 1,
   "id": "209dd551-791d-4c7b-87e5-9f21b4ff5292",
   "metadata": {},
   "outputs": [],
   "source": [
    "grades = []\n",
    "grades.append((95, 0.45))\n",
    "grades.append((85, 0.55))"
   ]
  },
  {
   "cell_type": "code",
   "execution_count": 2,
   "id": "773eb61b-8de2-4979-b171-25243fda9394",
   "metadata": {},
   "outputs": [
    {
     "data": {
      "text/plain": [
       "[(95, 0.45), (85, 0.55)]"
      ]
     },
     "execution_count": 2,
     "metadata": {},
     "output_type": "execute_result"
    }
   ],
   "source": [
    "grades"
   ]
  },
  {
   "cell_type": "markdown",
   "id": "6248a148-ffbe-4ad5-9d9e-b8e7af277413",
   "metadata": {},
   "source": [
    "---"
   ]
  },
  {
   "cell_type": "code",
   "execution_count": 3,
   "id": "afdc1964-d213-4cbf-b4ea-d7e381abf5c9",
   "metadata": {},
   "outputs": [],
   "source": [
    "num_of_companies = 2"
   ]
  },
  {
   "cell_type": "code",
   "execution_count": 7,
   "id": "3e5fa419-d3f6-400a-874c-a32d6dd85188",
   "metadata": {},
   "outputs": [
    {
     "name": "stdout",
     "output_type": "stream",
     "text": [
      "{'name': 'company_0', 'revenue': 1000}\n",
      "{'name': 'company_1', 'revenue': 1001}\n"
     ]
    }
   ],
   "source": [
    "for i in range(num_of_companies):\n",
    "    company = {}\n",
    "    company['name'] = f'company_{i}'\n",
    "    company['revenue'] = 1000 + i\n",
    "    print(company)"
   ]
  },
  {
   "cell_type": "code",
   "execution_count": null,
   "id": "6cdee271-fc13-4749-ae39-0929d59f86f2",
   "metadata": {},
   "outputs": [],
   "source": [
    "class InitialGenerator(thing, number):\n",
    "    def generate():\n",
    "        \"\"\"\n",
    "        \n",
    "        \"\"\""
   ]
  }
 ],
 "metadata": {
  "kernelspec": {
   "display_name": "Python 3 (ipykernel)",
   "language": "python",
   "name": "python3"
  },
  "language_info": {
   "codemirror_mode": {
    "name": "ipython",
    "version": 3
   },
   "file_extension": ".py",
   "mimetype": "text/x-python",
   "name": "python",
   "nbconvert_exporter": "python",
   "pygments_lexer": "ipython3",
   "version": "3.10.4"
  }
 },
 "nbformat": 4,
 "nbformat_minor": 5
}
